{
  "nbformat": 4,
  "nbformat_minor": 0,
  "metadata": {
    "colab": {
      "provenance": [],
      "authorship_tag": "ABX9TyNrTbuSDZEStWmgbV/zF0TH",
      "include_colab_link": true
    },
    "kernelspec": {
      "name": "python3",
      "display_name": "Python 3"
    },
    "language_info": {
      "name": "python"
    }
  },
  "cells": [
    {
      "cell_type": "markdown",
      "metadata": {
        "id": "view-in-github",
        "colab_type": "text"
      },
      "source": [
        "<a href=\"https://colab.research.google.com/github/kfh11/AAI614_Hassan/blob/main/Colab_Task.ipynb\" target=\"_parent\"><img src=\"https://colab.research.google.com/assets/colab-badge.svg\" alt=\"Open In Colab\"/></a>"
      ]
    },
    {
      "cell_type": "markdown",
      "source": [
        "[Link to my GitHub repo](https://github.com/kfh11/AAI614_Hassan)"
      ],
      "metadata": {
        "id": "mU_GFYS20pzj"
      }
    },
    {
      "cell_type": "code",
      "source": [
        "print(\"Hello Data Science\")"
      ],
      "metadata": {
        "colab": {
          "base_uri": "https://localhost:8080/"
        },
        "id": "NdmaOjrs0bDu",
        "outputId": "9ff3be04-5eed-4849-91b1-c74f015de894"
      },
      "execution_count": 2,
      "outputs": [
        {
          "output_type": "stream",
          "name": "stdout",
          "text": [
            "Hello Data Science\n"
          ]
        }
      ]
    }
  ]
}